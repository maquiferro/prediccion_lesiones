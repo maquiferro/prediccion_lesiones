{
 "cells": [
  {
   "cell_type": "markdown",
   "metadata": {},
   "source": [
    "##### <font size=\"50\"><center> <font color='darkgreen'>Predicción (US, OS, RFECV, individualización lesiones)</font>\n",
    "\n",
    "Partiendo del dataset creado tras el tratamiento de los datos de los chalecos GPS aportados por el Cádiz C.F, \n",
    "el presente documento realiza las siguientes acciones:\n",
    "    \n",
    "1. Exploración de nuestros datos, demostrar que las clases de nuestro conjunto de datos se hallan desbalanceadas\n",
    "    \n",
    "2. Aplicar técnicas de balanceo (Undersampling y Oversampling)\n",
    "    \n",
    "3. En ambos casos de balanceo (Undersampling y Oversampling), probar los siguientes clasificadores: LR, RF, DT, VM, MN\n",
    "    \n",
    "4. Entrenamiento de nuestro modelo utilizando la técnica de selección de atributos conocida como RFECV (rama superior)\n",
    "\n",
    "5. Testeo con los atributos detectados mediante RFECV (rama inferior)\n",
    "\n",
    "6. Individualización de lesiones\n",
    "    \n",
    "    \n",
    "\n",
    "\n"
   ]
  },
  {
   "cell_type": "markdown",
   "metadata": {},
   "source": [
    "# Importaciones"
   ]
  },
  {
   "cell_type": "code",
   "execution_count": 1,
   "metadata": {},
   "outputs": [
    {
     "name": "stdout",
     "output_type": "stream",
     "text": [
      "0.6.2\n"
     ]
    }
   ],
   "source": [
    "# Gráficas\n",
    "import matplotlib.pyplot as plt\n",
    "import seaborn as sns\n",
    "\n",
    "# Gestión de arrays y dataframes\n",
    "import numpy as np\n",
    "import pandas as pd\n",
    "from collections import Counter\n",
    "from sklearn.model_selection import train_test_split\n",
    "\n",
    "# Evitar warnings\n",
    "import warnings\n",
    "\n",
    "# Clasificadores \n",
    "from sklearn.svm import SVC\n",
    "from sklearn.linear_model import LogisticRegression\n",
    "from sklearn.decomposition import PCA\n",
    "from sklearn import tree\n",
    "from sklearn.tree import DecisionTreeClassifier\n",
    "from sklearn.svm import SVC\n",
    "from sklearn.naive_bayes import MultinomialNB\n",
    "from sklearn.ensemble import RandomForestClassifier\n",
    "from sklearn.pipeline import Pipeline\n",
    "\n",
    "\n",
    "# herramientas para la clasificación / entrenamiento\n",
    "from sklearn.model_selection import StratifiedKFold\n",
    "from sklearn.feature_selection import RFECV\n",
    "from sklearn.datasets import make_classification\n",
    "from sklearn.feature_selection import SelectKBest, chi2\n",
    "from sklearn.feature_selection import RFE\n",
    "from sklearn.feature_selection import RFECV\n",
    "from sklearn.pipeline import Pipeline\n",
    "from sklearn.pipeline import make_pipeline\n",
    "from imblearn.pipeline import make_pipeline as make_pipeline_imb\n",
    "\n",
    "# Balanceadores de clases\n",
    "from imblearn.over_sampling import ADASYN\n",
    "import imblearn\n",
    "from imblearn.over_sampling import SMOTE\n",
    "from imblearn.under_sampling import NearMiss\n",
    "\n",
    "# Métricas / Evaluadores\n",
    "from sklearn.metrics import accuracy_score, f1_score, recall_score\n",
    "from sklearn.metrics import f1_score,confusion_matrix\n",
    "from imblearn.metrics import classification_report_imbalanced\n",
    "from sklearn.metrics import accuracy_score, confusion_matrix, classification_report, precision_score, recall_score, roc_auc_score, auc, f1_score\n",
    "\n",
    "# Dibujo árbol de decisión\n",
    "from sklearn import tree\n",
    "from io import StringIO\n",
    "from IPython.display import Image\n",
    "from sklearn.tree import export_graphviz\n",
    "\n",
    "# check version number\n",
    "import imblearn\n",
    "print(imblearn.__version__)\n",
    "\n",
    "# Otros\n",
    "from sklearn.model_selection import train_test_split, GridSearchCV, StratifiedKFold, StratifiedShuffleSplit, cross_val_score\n"
   ]
  },
  {
   "cell_type": "markdown",
   "metadata": {},
   "source": [
    "**Funciones auxiliares**"
   ]
  },
  {
   "cell_type": "code",
   "execution_count": 61,
   "metadata": {},
   "outputs": [],
   "source": [
    "# Función para oversampling\n",
    "\n",
    "def makeOverSamplesADASYN(X,y): \n",
    "    sm = ADASYN(sampling_strategy = 'minority')\n",
    "    x_res, y_res = sm.fit_resample(X,y)\n",
    "    return(x_res,y_res)\n",
    "\n",
    "def tipo_result(a,b):\n",
    "    \n",
    "    if (a == b):\n",
    "        if a == 1:\n",
    "            return \"Acierto / True Positive\"\n",
    "        else:\n",
    "            return \"Acierto / True Negative\"\n",
    "    \n",
    "    if (a != b):\n",
    "        if a == 1:\n",
    "            return \"Fallo / False Negative\"\n",
    "        else:\n",
    "            return \"Fallo / False Positive\" "
   ]
  },
  {
   "cell_type": "markdown",
   "metadata": {},
   "source": [
    "**Importamos el dataset calculado** *dataset* conectando python a SQL y creamos un DF con una tabla "
   ]
  },
  {
   "cell_type": "code",
   "execution_count": 68,
   "metadata": {},
   "outputs": [],
   "source": [
    "import pandas as pd\n",
    "import pymysql as my\n",
    "##################################\n",
    "# Abro Conexión\n",
    "dbConnect = {\n",
    "    'host':'localhost',\n",
    "    'user':'root',\n",
    "    'password':'1234',\n",
    "    'database':'cadiz'\n",
    "}\n",
    "\n",
    "conexion = my.connect(**dbConnect)\n",
    "cursor = conexion.cursor()\n",
    "##################################\n",
    "\n",
    "# CREO EL DATAFRAME Con la tabla PETOS\n",
    "# - tabla anterior petos = pd.read_sql_query(\"SELECT * from petostfmcarga\", conexion)\n",
    "#petos = pd.read_sql_query(\"SELECT * from cadiz_db\", conexion)\n",
    "dataset = pd.read_sql_query(\"SELECT * from dataset\", conexion)\n",
    "dataset[\"Lesion\"] = dataset[\"Lesion\"].astype(int)\n",
    "#petos = petos.fillna(0)\n",
    "#petos.rename({\"RPE_TST\":\"Carga\"},axis =1, inplace = True)\n",
    "#petos.sort_values(\"IdPeto\", inplace = True)\n",
    "#petos[\"PI_Acum\"] = petos[\"PI_Acum\"].astype(int)\n",
    "#ps = pd.read_sql_query(\"SELECT * from petostfm_rpe\", conexion)\n",
    "\n",
    "data_player = pd.read_excel('Dataset_IdPlayer.xlsx')\n",
    "data_player.drop([\"Unnamed: 0\"], axis=1, inplace=True)"
   ]
  },
  {
   "cell_type": "markdown",
   "metadata": {},
   "source": [
    "## <font size=\"20\"><center> <font color='blue'>1. Exploración de nuestros datos </font>"
   ]
  },
  {
   "cell_type": "markdown",
   "metadata": {},
   "source": [
    "#### Verificar si hay nulos"
   ]
  },
  {
   "cell_type": "code",
   "execution_count": 4,
   "metadata": {},
   "outputs": [
    {
     "data": {
      "text/plain": [
       "False"
      ]
     },
     "execution_count": 4,
     "metadata": {},
     "output_type": "execute_result"
    }
   ],
   "source": [
    "dataset.isnull().values.any()"
   ]
  },
  {
   "cell_type": "markdown",
   "metadata": {},
   "source": [
    "#### Dimensiones del dataset"
   ]
  },
  {
   "cell_type": "code",
   "execution_count": 5,
   "metadata": {},
   "outputs": [
    {
     "data": {
      "text/plain": [
       "(2778, 52)"
      ]
     },
     "execution_count": 5,
     "metadata": {},
     "output_type": "execute_result"
    }
   ],
   "source": [
    "dataset.shape"
   ]
  },
  {
   "cell_type": "markdown",
   "metadata": {},
   "source": [
    "## Distribución de Clases\n",
    "\n",
    "A continuación realizamos un análisis general de distribución de las clases de Lesión (1) y No Lesión (0) para entender en detalle la relación entre ellas."
   ]
  },
  {
   "cell_type": "code",
   "execution_count": 6,
   "metadata": {},
   "outputs": [
    {
     "data": {
      "text/plain": [
       "Text(0, 0.5, 'Frecuencia')"
      ]
     },
     "execution_count": 6,
     "metadata": {},
     "output_type": "execute_result"
    },
    {
     "data": {
      "image/png": "[encoded data removed]",
      "text/plain": [
       "<Figure size 432x288 with 1 Axes>"
      ]
     },
     "metadata": {
      "needs_background": "light"
     },
     "output_type": "display_data"
    }
   ],
   "source": [
    "LABELS = [\"0\", \"1\"]\n",
    "cont_clases = pd.value_counts(dataset[\"Lesion\"], sort = True)\n",
    "cont_clases.plot(kind =\"bar\", rot = 0)\n",
    "plt.title(\"Distribución original de Clases\")\n",
    "plt.xticks(range(2),LABELS)\n",
    "plt.xlabel(\"Clases\")\n",
    "plt.ylabel(\"Frecuencia\")"
   ]
  },
  {
   "cell_type": "code",
   "execution_count": 7,
   "metadata": {},
   "outputs": [
    {
     "data": {
      "text/plain": [
       "0    2738\n",
       "1      40\n",
       "Name: Lesion, dtype: int64"
      ]
     },
     "execution_count": 7,
     "metadata": {},
     "output_type": "execute_result"
    }
   ],
   "source": [
    "## Verificamos la distribución numérica de Lesionados y No Lesionados\n",
    "dataset.Lesion.value_counts()"
   ]
  },
  {
   "cell_type": "markdown",
   "metadata": {},
   "source": [
    "## Conjunto de datos desbalanceado\n",
    "\n",
    "Notamos que nuestro conjunto de datos se halla plenamente desbalanceado.\n",
    "\n",
    "Contamos con 2738 registros de NO LESION (0) y simplemente 40 registros relacionados con una Lesión (1).\n",
    "\n",
    "Resulta necesario aplicar técnicas de emparejamiento de clases, con el fin de evitar que nuestros clasificadores sean parciales a nuestra clase mayoritaria (0 - No Lesión)"
   ]
  },
  {
   "cell_type": "markdown",
   "metadata": {},
   "source": [
    "## Correlacion básica entre variables"
   ]
  },
  {
   "cell_type": "markdown",
   "metadata": {},
   "source": [
    "Realizamos un primer acercamiento a través del cáculo de correlaciones de nuestras variables en torno a la varible que queremos predecir: Lesión"
   ]
  },
  {
   "cell_type": "code",
   "execution_count": 8,
   "metadata": {},
   "outputs": [
    {
     "data": {
      "text/plain": [
       "<matplotlib.axes._subplots.AxesSubplot at 0x1d29aaa0780>"
      ]
     },
     "execution_count": 8,
     "metadata": {},
     "output_type": "execute_result"
    },
    {
     "data": {
      "image/png": "[encoded data removed]",
      "text/plain": [
       "<Figure size 2160x1296 with 2 Axes>"
      ]
     },
     "metadata": {
      "needs_background": "light"
     },
     "output_type": "display_data"
    }
   ],
   "source": [
    "#Convertimos la columna Lesión a integer para poder trabajar con ella\n",
    "dataset[\"Lesion\"] = dataset[\"Lesion\"].astype(int)\n",
    "target = \"Lesion\"\n",
    "numerical_feature_columns = list(dataset._get_numeric_data().columns)\n",
    "k = 10 #number of variables for heatmap\n",
    "cols = dataset[numerical_feature_columns].corr().nlargest(k, target)[target].index\n",
    "cm = dataset[cols].corr()\n",
    "plt.figure(figsize=(30,18))\n",
    "sns.heatmap(cm, annot=True, cmap = 'viridis')"
   ]
  },
  {
   "cell_type": "markdown",
   "metadata": {},
   "source": [
    "A priori podemos observar relaciones de Lesión con aspectos básicos físicos como Edad, BMI, y PI_Acum (lesiones previas)"
   ]
  },
  {
   "cell_type": "markdown",
   "metadata": {},
   "source": [
    "## Creación grupos X, Y\n",
    "\n",
    "En esta sección se lleva a cabo la divisón del dataset en 2 conjuntos:\n",
    "\n",
    "1. Un conjunto (X) que contiene todas las columnas menos la etiqueta de Lesión\n",
    "\n",
    "2. Un conjunto (Y) que sólo contiene la columna que representa al estado de Lesión (0:No lesión, 1:Lesión)"
   ]
  },
  {
   "cell_type": "code",
   "execution_count": 9,
   "metadata": {},
   "outputs": [
    {
     "name": "stdout",
     "output_type": "stream",
     "text": [
      "(2778, 51)\n",
      "(2778,)\n"
     ]
    }
   ],
   "source": [
    "#X = dataset.loc[:, dataset.columns != target]\n",
    "#Y = dataset.loc[:, dataset.columns == target]\n",
    "\n",
    "# Diferenciamos las características dependientes de la dependiente\n",
    "\n",
    "# creamos una lista con los nombres de las columnas de nuestro dataset\n",
    "columns = dataset.columns.tolist()\n",
    "\n",
    "# Creamos una lista con todas las columnas menos la de Lesión\n",
    "columns = [c for c in columns if c not in [\"Lesion\"]]\n",
    "\n",
    "# Guardamos la columna de Lesión por separado\n",
    "target = \"Lesion\"\n",
    "\n",
    "# definimos un random state\n",
    "state = np.random.RandomState(42)\n",
    "X = dataset[columns]\n",
    "Y = dataset[target]\n",
    "#X_outliers = state.uniform(low=0, high=1, size=(X.shape[0], X.shape[1]))\n",
    "\n",
    "# Imprimimos las dimensiones de los nuevos dataframe de referencia\n",
    "print(X.shape) # variables independientes\n",
    "print(Y.shape) # etiqueta o variable dependiente"
   ]
  },
  {
   "cell_type": "markdown",
   "metadata": {},
   "source": [
    "## <font size=\"20\"><center> <font color='red'>2. Técnica de Undersampling (NearMiss)</font>\n",
    "La técnica de Undersampling consiste en REDUCIR el número de los elementos de la clase mayoritaria (en este caso la clase representada por los 0s, o registros de NO LESIÓN), hasta igualar a la clase minoritaria (1)\n",
    "\n"
   ]
  },
  {
   "cell_type": "code",
   "execution_count": 10,
   "metadata": {},
   "outputs": [
    {
     "data": {
      "text/plain": [
       "((80, 51), (80,))"
      ]
     },
     "execution_count": 10,
     "metadata": {},
     "output_type": "execute_result"
    }
   ],
   "source": [
    "## Trabajamos con la librería: imblearn.under_sampling import NearMiss\n",
    "nm = NearMiss() # creamos el objeto de tipo NearMiss()\n",
    "x_res, y_res = nm.fit_sample(X,Y) # aplicamos el undersampling\n",
    "x_res.shape, y_res.shape # verificamos los tamaños\n"
   ]
  },
  {
   "cell_type": "code",
   "execution_count": 11,
   "metadata": {},
   "outputs": [
    {
     "data": {
      "text/plain": [
       "Text(0, 0.5, 'Frecuencia')"
      ]
     },
     "execution_count": 11,
     "metadata": {},
     "output_type": "execute_result"
    },
    {
     "data": {
      "image/png": "[encoded data removed]",
      "text/plain": [
       "<Figure size 432x288 with 1 Axes>"
      ]
     },
     "metadata": {
      "needs_background": "light"
     },
     "output_type": "display_data"
    }
   ],
   "source": [
    "LABELS = [\"0\", \"1\"]\n",
    "cont_clases = pd.value_counts(y_res, sort = True)\n",
    "cont_clases.plot(kind =\"bar\", rot = 0)\n",
    "plt.title(\"Distribución de Clases (Undersampling)\")\n",
    "plt.xticks(range(2),LABELS)\n",
    "plt.xlabel(\"Clases\")\n",
    "plt.ylabel(\"Frecuencia\")"
   ]
  },
  {
   "cell_type": "code",
   "execution_count": 12,
   "metadata": {},
   "outputs": [
    {
     "name": "stdout",
     "output_type": "stream",
     "text": [
      "Distribución original sin undersampling Counter({0: 2738, 1: 40})\n",
      "Distribución final con undersampling Counter({0: 40, 1: 40})\n"
     ]
    }
   ],
   "source": [
    "# Utilizamos Counter para analizar la nueva distribución de clases\n",
    "print('Distribución original sin undersampling {}'.format(Counter(Y)))\n",
    "print('Distribución final con undersampling {}'.format(Counter(y_res)))"
   ]
  },
  {
   "cell_type": "markdown",
   "metadata": {},
   "source": [
    "Como podemos apreciar, ahora tenemos tantos registros de 0 como de 1, contando con un dataset reducido y balanceado."
   ]
  },
  {
   "cell_type": "markdown",
   "metadata": {},
   "source": [
    "## División en conjuntos de Test y Train (UnderSampling)"
   ]
  },
  {
   "cell_type": "code",
   "execution_count": 13,
   "metadata": {},
   "outputs": [],
   "source": [
    "# Con undersampling\n",
    "x_trainUS, x_testUS, y_trainUS, y_testUS = train_test_split(x_res, y_res, \n",
    "                                                    test_size=0.2, \n",
    "                                                    random_state=8)"
   ]
  },
  {
   "cell_type": "markdown",
   "metadata": {},
   "source": [
    "## Clasificadores con Undersampling"
   ]
  },
  {
   "cell_type": "code",
   "execution_count": 14,
   "metadata": {},
   "outputs": [
    {
     "name": "stdout",
     "output_type": "stream",
     "text": [
      "              precision    recall  f1-score   support\n",
      "\n",
      "           0       0.70      0.78      0.74         9\n",
      "           1       0.67      0.57      0.62         7\n",
      "\n",
      "    accuracy                           0.69        16\n",
      "   macro avg       0.68      0.67      0.68        16\n",
      "weighted avg       0.69      0.69      0.68        16\n",
      "\n"
     ]
    }
   ],
   "source": [
    "# Regresión logística US\n",
    "\n",
    "warnings.filterwarnings(\"ignore\")\n",
    "\n",
    "clf_lr = LogisticRegression() \n",
    "clf_lr.fit(x_trainUS,y_trainUS)\n",
    "predictionslr = clf_lr.predict(x_testUS)\n",
    "print(classification_report(y_testUS,predictionslr))"
   ]
  },
  {
   "cell_type": "code",
   "execution_count": 15,
   "metadata": {},
   "outputs": [
    {
     "name": "stdout",
     "output_type": "stream",
     "text": [
      "              precision    recall  f1-score   support\n",
      "\n",
      "           0       0.89      0.89      0.89         9\n",
      "           1       0.86      0.86      0.86         7\n",
      "\n",
      "    accuracy                           0.88        16\n",
      "   macro avg       0.87      0.87      0.87        16\n",
      "weighted avg       0.88      0.88      0.88        16\n",
      "\n"
     ]
    }
   ],
   "source": [
    "# Random Forest US\n",
    "\n",
    "rf = RandomForestClassifier()\n",
    "rf.fit(x_trainUS,y_trainUS)\n",
    "predictionsrf = rf.predict(x_testUS)\n",
    "print(classification_report(y_testUS,predictionsrf))"
   ]
  },
  {
   "cell_type": "code",
   "execution_count": 16,
   "metadata": {},
   "outputs": [
    {
     "name": "stdout",
     "output_type": "stream",
     "text": [
      "              precision    recall  f1-score   support\n",
      "\n",
      "           0       0.00      0.00      0.00         9\n",
      "           1       0.44      1.00      0.61         7\n",
      "\n",
      "    accuracy                           0.44        16\n",
      "   macro avg       0.22      0.50      0.30        16\n",
      "weighted avg       0.19      0.44      0.27        16\n",
      "\n"
     ]
    }
   ],
   "source": [
    "# Vector Máquina US\n",
    "\n",
    "warnings.filterwarnings(\"ignore\")\n",
    "\n",
    "svmc = SVC(kernel='rbf', C=1E6, gamma='auto')\n",
    "svmc.fit(x_trainUS,y_trainUS)\n",
    "predictionsSVM = svmc.predict(x_testUS)\n",
    "print(classification_report(y_testUS,predictionsSVM))"
   ]
  },
  {
   "cell_type": "code",
   "execution_count": 17,
   "metadata": {},
   "outputs": [
    {
     "name": "stdout",
     "output_type": "stream",
     "text": [
      "              precision    recall  f1-score   support\n",
      "\n",
      "           0       1.00      0.67      0.80         9\n",
      "           1       0.70      1.00      0.82         7\n",
      "\n",
      "    accuracy                           0.81        16\n",
      "   macro avg       0.85      0.83      0.81        16\n",
      "weighted avg       0.87      0.81      0.81        16\n",
      "\n"
     ]
    }
   ],
   "source": [
    "# Decision Tree Classifier US\n",
    "\n",
    "dtUS = tree.DecisionTreeClassifier()\n",
    "dtUS.fit(x_trainUS,y_trainUS)\n",
    "predictionsdtUS = dtUS.predict(x_testUS)\n",
    "print(classification_report(y_testUS,predictionsdtUS))"
   ]
  },
  {
   "cell_type": "code",
   "execution_count": 18,
   "metadata": {},
   "outputs": [
    {
     "name": "stdout",
     "output_type": "stream",
     "text": [
      "              precision    recall  f1-score   support\n",
      "\n",
      "           0       0.62      0.89      0.73         9\n",
      "           1       0.67      0.29      0.40         7\n",
      "\n",
      "    accuracy                           0.62        16\n",
      "   macro avg       0.64      0.59      0.56        16\n",
      "weighted avg       0.64      0.62      0.58        16\n",
      "\n"
     ]
    }
   ],
   "source": [
    "## Binomial US\n",
    "mn = MultinomialNB()\n",
    "mn.fit(x_trainUS,y_trainUS)\n",
    "predictionsMN = mn.predict(x_testUS)\n",
    "print(classification_report(y_testUS,predictionsMN))"
   ]
  },
  {
   "cell_type": "code",
   "execution_count": null,
   "metadata": {},
   "outputs": [],
   "source": []
  },
  {
   "cell_type": "markdown",
   "metadata": {},
   "source": [
    "## <font size=\"20\"> <center> <font color='blue'>3. Técnica de Oversampling (ADASYN)</font>\n",
    "\n",
    "En esta sección buscaremos balanecar nuestros datos utilizando técnicas de Oversampling.\n",
    "\n",
    "En particular, estaremos creando ejemplos sintéticos de la clase minoritaria para así emparejarla con la clase mayoritaria"
   ]
  },
  {
   "cell_type": "code",
   "execution_count": 19,
   "metadata": {},
   "outputs": [
    {
     "name": "stdout",
     "output_type": "stream",
     "text": [
      "Distribución original sin undersampling Counter({0: 2738, 1: 40})\n",
      "Distribución final con undersampling Counter({0: 2738, 1: 2730})\n"
     ]
    }
   ],
   "source": [
    "# Creamos nuevos conjuntos de train y test balanceados con oversampling\n",
    "xAD,yAD = makeOverSamplesADASYN(X,Y)\n",
    "\n",
    "# Utilizamos Counter para analizar la nueva distribución de clases\n",
    "print('Distribución original sin undersampling {}'.format(Counter(Y)))\n",
    "print('Distribución final con undersampling {}'.format(Counter(yAD)))\n"
   ]
  },
  {
   "cell_type": "markdown",
   "metadata": {},
   "source": [
    "Notamos que logramos balancear las clases, aumentando los ejemplos de la clase minoritaria"
   ]
  },
  {
   "cell_type": "code",
   "execution_count": 20,
   "metadata": {},
   "outputs": [
    {
     "data": {
      "text/plain": [
       "Text(0, 0.5, 'Frecuencia')"
      ]
     },
     "execution_count": 20,
     "metadata": {},
     "output_type": "execute_result"
    },
    {
     "data": {
      "image/png": "[encoded data removed]",
      "text/plain": [
       "<Figure size 432x288 with 1 Axes>"
      ]
     },
     "metadata": {
      "needs_background": "light"
     },
     "output_type": "display_data"
    }
   ],
   "source": [
    "LABELS = [\"0\", \"1\"]\n",
    "cont_clases = pd.value_counts(yAD, sort = True)\n",
    "cont_clases.plot(kind =\"bar\", rot = 0)\n",
    "plt.title(\"Distribución de Clases (Oversampling)\")\n",
    "plt.xticks(range(2),LABELS)\n",
    "plt.xlabel(\"Clases\")\n",
    "plt.ylabel(\"Frecuencia\")"
   ]
  },
  {
   "cell_type": "markdown",
   "metadata": {},
   "source": [
    "## División en conjuntos de Test y Train (OverSampling)"
   ]
  },
  {
   "cell_type": "code",
   "execution_count": 21,
   "metadata": {},
   "outputs": [],
   "source": [
    "x_trainAD, x_testAD, y_trainAD, y_testAD = train_test_split(xAD,yAD, \n",
    "                                                    test_size=0.2, \n",
    "                                                    random_state=8)"
   ]
  },
  {
   "cell_type": "markdown",
   "metadata": {},
   "source": [
    "## Clasificadores con Oversampling"
   ]
  },
  {
   "cell_type": "code",
   "execution_count": 22,
   "metadata": {},
   "outputs": [
    {
     "name": "stdout",
     "output_type": "stream",
     "text": [
      "              precision    recall  f1-score   support\n",
      "\n",
      "           0       0.72      0.59      0.65       575\n",
      "           1       0.62      0.75      0.68       519\n",
      "\n",
      "    accuracy                           0.66      1094\n",
      "   macro avg       0.67      0.67      0.66      1094\n",
      "weighted avg       0.67      0.66      0.66      1094\n",
      "\n"
     ]
    }
   ],
   "source": [
    "# Regresión logística Oversampling\n",
    "\n",
    "clf_lrAD = LogisticRegression() \n",
    "clf_lrAD.fit(x_trainAD,y_trainAD)\n",
    "predictionslrAD = clf_lrAD.predict(x_testAD)\n",
    "print(classification_report(y_testAD,predictionslrAD))"
   ]
  },
  {
   "cell_type": "code",
   "execution_count": 23,
   "metadata": {},
   "outputs": [
    {
     "name": "stdout",
     "output_type": "stream",
     "text": [
      "              precision    recall  f1-score   support\n",
      "\n",
      "           0       0.99      1.00      1.00       575\n",
      "           1       1.00      0.99      1.00       519\n",
      "\n",
      "    accuracy                           1.00      1094\n",
      "   macro avg       1.00      1.00      1.00      1094\n",
      "weighted avg       1.00      1.00      1.00      1094\n",
      "\n"
     ]
    }
   ],
   "source": [
    "# Random Forest Oversampling\n",
    "\n",
    "rfAD = RandomForestClassifier()\n",
    "rfAD.fit(x_trainAD,y_trainAD)\n",
    "predictionsrfAD = rfAD.predict(x_testAD)\n",
    "print(classification_report(y_testAD,predictionsrfAD))"
   ]
  },
  {
   "cell_type": "code",
   "execution_count": 24,
   "metadata": {},
   "outputs": [
    {
     "name": "stdout",
     "output_type": "stream",
     "text": [
      "              precision    recall  f1-score   support\n",
      "\n",
      "           0       0.59      1.00      0.74       575\n",
      "           1       1.00      0.22      0.37       519\n",
      "\n",
      "    accuracy                           0.63      1094\n",
      "   macro avg       0.79      0.61      0.55      1094\n",
      "weighted avg       0.78      0.63      0.56      1094\n",
      "\n"
     ]
    }
   ],
   "source": [
    "# Vector Máquina Oversampling\n",
    "\n",
    "svmcAD = SVC(kernel='rbf', C=1E6, gamma='auto')\n",
    "svmcAD.fit(x_trainAD,y_trainAD)\n",
    "predictionsSVMAD = svmcAD.predict(x_testAD)\n",
    "print(classification_report(y_testAD,predictionsSVMAD))"
   ]
  },
  {
   "cell_type": "code",
   "execution_count": 25,
   "metadata": {},
   "outputs": [
    {
     "name": "stdout",
     "output_type": "stream",
     "text": [
      "              precision    recall  f1-score   support\n",
      "\n",
      "           0       0.99      0.96      0.97       575\n",
      "           1       0.96      0.98      0.97       519\n",
      "\n",
      "    accuracy                           0.97      1094\n",
      "   macro avg       0.97      0.97      0.97      1094\n",
      "weighted avg       0.97      0.97      0.97      1094\n",
      "\n"
     ]
    }
   ],
   "source": [
    "# Decision Tree Classifier Oversampling\n",
    "\n",
    "dtAD = tree.DecisionTreeClassifier()\n",
    "dtAD.fit(x_trainAD,y_trainAD)\n",
    "predictionsdtAD = dtAD.predict(x_testAD)\n",
    "print(classification_report(y_testAD,predictionsdtAD))"
   ]
  },
  {
   "cell_type": "code",
   "execution_count": 26,
   "metadata": {},
   "outputs": [
    {
     "name": "stdout",
     "output_type": "stream",
     "text": [
      "              precision    recall  f1-score   support\n",
      "\n",
      "           0       0.66      0.46      0.54       575\n",
      "           1       0.55      0.73      0.63       519\n",
      "\n",
      "    accuracy                           0.59      1094\n",
      "   macro avg       0.61      0.60      0.59      1094\n",
      "weighted avg       0.61      0.59      0.59      1094\n",
      "\n"
     ]
    }
   ],
   "source": [
    "## Binomial Oversampling\n",
    "mnAD = MultinomialNB()\n",
    "mnAD.fit(x_trainAD,y_trainAD)\n",
    "predictionsMNAD = mnAD.predict(x_testAD)\n",
    "print(classification_report(y_testAD,predictionsMNAD))\n"
   ]
  },
  {
   "cell_type": "markdown",
   "metadata": {},
   "source": [
    "## <font size=\"20\"><center> <font color='darkblue'> 4. Rama superior (RFECV) </font>"
   ]
  },
  {
   "cell_type": "markdown",
   "metadata": {},
   "source": [
    "El objetivo de esta sección utilizar el 30% de los datos del dataset Original (tras aplicar ADASYN), para aplicar RFECV con distintos clasificadores y detectar cuales son los atributos más importantes de nuestro dataset.\n",
    "\n",
    "1. Aplicamos ADASYN sobre los dataframes originales.\n",
    "2. Separamos en grupos de Train y Test con una proporción 30/70 respectivamente\n",
    "3. Aplicamos RFECV con LR, RF, DT, VM, MN para detectar los atributos más relevantes\n"
   ]
  },
  {
   "cell_type": "markdown",
   "metadata": {},
   "source": [
    "## Aplicación de ADASYN"
   ]
  },
  {
   "cell_type": "code",
   "execution_count": 27,
   "metadata": {},
   "outputs": [
    {
     "name": "stdout",
     "output_type": "stream",
     "text": [
      "Distribución original sin undersampling Counter({0: 2738, 1: 40})\n",
      "Distribución final con undersampling Counter({0: 2738, 1: 2730})\n"
     ]
    }
   ],
   "source": [
    "# Creamos nuevos conjuntos de train y test balanceados con oversampling\n",
    "xAd,yAd = makeOverSamplesADASYN(X,Y)\n",
    "\n",
    "# Utilizamos Counter para analizar la nueva distribución de clases\n",
    "print('Distribución original sin undersampling {}'.format(Counter(Y)))\n",
    "print('Distribución final con undersampling {}'.format(Counter(yAd)))"
   ]
  },
  {
   "cell_type": "markdown",
   "metadata": {},
   "source": [
    "## Train y Test (30 - 70)"
   ]
  },
  {
   "cell_type": "code",
   "execution_count": 28,
   "metadata": {},
   "outputs": [],
   "source": [
    "x_trainA, x_testA, y_trainA, y_testA = train_test_split(xAd,yAd, \n",
    "                                                    test_size=0.7, \n",
    "                                                    random_state=8)"
   ]
  },
  {
   "cell_type": "markdown",
   "metadata": {},
   "source": [
    "## RFECV con distintos clasificadores\n",
    "\n",
    "Entrenaremos nuestro modelo utilizando distintos clasificadores: LR, MN, DT y RF"
   ]
  },
  {
   "cell_type": "markdown",
   "metadata": {},
   "source": [
    "**Regresión logística**"
   ]
  },
  {
   "cell_type": "code",
   "execution_count": 29,
   "metadata": {
    "scrolled": true
   },
   "outputs": [
    {
     "name": "stdout",
     "output_type": "stream",
     "text": [
      "Optimal number of features : 26\n",
      "Best features : Index(['Acc3', 'Dec2', 'Dec3', 'Age', 'PI_Acum', 'Games', 'ewm_Acc2',\n",
      "       'ewm_Dec2', 'ewm_Dec3', 'ewm_DSL', 'ac_dTOT', 'ac_dHSR', 'ac_dHML/m',\n",
      "       'ac_Acc2', 'ac_Acc3', 'ac_Dec2', 'ac_Dec3', 'ac_FI', 'ms_dHSR',\n",
      "       'ms_dMET', 'ms_dHML', 'ms_Acc2', 'ms_Acc3', 'ms_Dec2', 'ms_Dec3',\n",
      "       'ms_DSL'],\n",
      "      dtype='object')\n",
      "              precision    recall  f1-score   support\n",
      "\n",
      "           0       0.80      0.72      0.76      1915\n",
      "           1       0.75      0.82      0.78      1913\n",
      "\n",
      "    accuracy                           0.77      3828\n",
      "   macro avg       0.77      0.77      0.77      3828\n",
      "weighted avg       0.77      0.77      0.77      3828\n",
      "\n"
     ]
    }
   ],
   "source": [
    "# Clasificador regresión logistica\n",
    "\n",
    "clf_lr = LogisticRegression()      \n",
    "rfecvLR = RFECV(estimator=clf_lr, step=1, cv=2, scoring='accuracy')\n",
    "rfecvLR = rfecvLR.fit(x_trainA, y_trainA)\n",
    "\n",
    "warnings.filterwarnings(\"ignore\")\n",
    "\n",
    "print('Optimal number of features :', rfecvLR.n_features_)\n",
    "print('Best features :', x_trainA.columns[rfecvLR.support_])\n",
    "predictions_lrRFECV = rfecvLR.predict(x_testA)\n",
    "print(classification_report(y_testA,predictions_lrRFECV))"
   ]
  },
  {
   "cell_type": "markdown",
   "metadata": {},
   "source": [
    "**Bayesiano Binomial**"
   ]
  },
  {
   "cell_type": "code",
   "execution_count": 30,
   "metadata": {},
   "outputs": [
    {
     "name": "stdout",
     "output_type": "stream",
     "text": [
      "Optimal number of features : 20\n",
      "Best features : Index(['Dec3', 'ewm_Acc3', 'ewm_Dec3', 'ewm_PI_Acum', 'ac_dTOT', 'ac_dHSR',\n",
      "       'ac_dMET', 'ac_dHML', 'ac_dHML/m', 'ac_Acc2', 'ac_Acc3', 'ac_Dec2',\n",
      "       'ac_Dec3', 'ac_DSL', 'ac_FI', 'ms_Acc3', 'ms_Dec2', 'ms_Dec3', 'ms_DSL',\n",
      "       'ms_FI'],\n",
      "      dtype='object')\n",
      "              precision    recall  f1-score   support\n",
      "\n",
      "           0       0.70      0.67      0.68      1915\n",
      "           1       0.68      0.71      0.69      1913\n",
      "\n",
      "    accuracy                           0.69      3828\n",
      "   macro avg       0.69      0.69      0.69      3828\n",
      "weighted avg       0.69      0.69      0.69      3828\n",
      "\n"
     ]
    }
   ],
   "source": [
    "#Bayesiano Binomial\n",
    "\n",
    "mn = MultinomialNB()\n",
    "rfecvMN = RFECV(estimator=mn, step=1, cv=StratifiedKFold(2), scoring='accuracy')\n",
    "rfecvMN.fit(x_trainA, y_trainA)\n",
    "\n",
    "print('Optimal number of features :', rfecvMN.n_features_)\n",
    "print('Best features :', x_trainA.columns[rfecvMN.support_])\n",
    "predictions_mnRFECV = rfecvMN.predict(x_testA)\n",
    "print(classification_report(y_testA,predictions_mnRFECV))"
   ]
  },
  {
   "cell_type": "markdown",
   "metadata": {},
   "source": [
    "**Clasificador Vector Máquina**"
   ]
  },
  {
   "cell_type": "code",
   "execution_count": 31,
   "metadata": {},
   "outputs": [
    {
     "data": {
      "text/plain": [
       "\"\\n\\nsvmc = SVC(kernel='linear', C=1E6, gamma='auto')\\nrfecvSVMC = RFECV (estimator=svmc, step=1, cv=StratifiedKFold(2), scoring='accuracy')\\nrfecvSVMC.fit(x_trainA, y_trainA)\\n\\nprint('Optimal number of features :', rfecvSVMC.n_features_)\\nprint('Best features :', x_trainA.columns[rfecvSVMC.support_])\\npredictions_svmcRFECV = rfecvSVMC.predict(x_testA)\\nprint(classification_report(y_testA,predictions_svmcRFECV))\\n\\n\""
      ]
     },
     "execution_count": 31,
     "metadata": {},
     "output_type": "execute_result"
    }
   ],
   "source": [
    "'''\n",
    "\n",
    "svmc = SVC(kernel='linear', C=1E6, gamma='auto')\n",
    "rfecvSVMC = RFECV (estimator=svmc, step=1, cv=StratifiedKFold(2), scoring='accuracy')\n",
    "rfecvSVMC.fit(x_trainA, y_trainA)\n",
    "\n",
    "print('Optimal number of features :', rfecvSVMC.n_features_)\n",
    "print('Best features :', x_trainA.columns[rfecvSVMC.support_])\n",
    "predictions_svmcRFECV = rfecvSVMC.predict(x_testA)\n",
    "print(classification_report(y_testA,predictions_svmcRFECV))\n",
    "\n",
    "'''"
   ]
  },
  {
   "cell_type": "markdown",
   "metadata": {},
   "source": [
    "**Decision tree**"
   ]
  },
  {
   "cell_type": "code",
   "execution_count": 32,
   "metadata": {},
   "outputs": [
    {
     "name": "stdout",
     "output_type": "stream",
     "text": [
      "Optimal number of features : 40\n",
      "Best features : Index(['dMET', 'dHML', 'dHML/m', 'Acc2', 'Acc3', 'Dec2', 'Dec3', 'DSL', 'FI',\n",
      "       'Age', 'BMI', 'IdRole', 'PI_Acum', 'Games', 'ewm_dTOT', 'ewm_dHSR',\n",
      "       'ewm_dMET', 'ewm_dHML', 'ewm_dHML/m', 'ewm_Acc2', 'ewm_Acc3',\n",
      "       'ewm_Dec2', 'ewm_Dec3', 'ewm_FI', 'ewm_PI_Acum', 'ac_dHSR', 'ac_dMET',\n",
      "       'ac_dHML', 'ac_dHML/m', 'ac_Acc2', 'ac_Acc3', 'ac_Dec2', 'ac_Dec3',\n",
      "       'ac_DSL', 'ac_FI', 'ms_dHSR', 'ms_dMET', 'ms_dHML', 'ms_dHML/m',\n",
      "       'ms_Acc3'],\n",
      "      dtype='object')\n",
      "              precision    recall  f1-score   support\n",
      "\n",
      "           0       0.94      0.93      0.94      1915\n",
      "           1       0.94      0.94      0.94      1913\n",
      "\n",
      "    accuracy                           0.94      3828\n",
      "   macro avg       0.94      0.94      0.94      3828\n",
      "weighted avg       0.94      0.94      0.94      3828\n",
      "\n"
     ]
    }
   ],
   "source": [
    "# Decision Tree (Rama Superior)\n",
    "\n",
    "dtc = tree.DecisionTreeClassifier()\n",
    "rfecvDT = RFECV(estimator=dtc, step=1, cv=StratifiedKFold(2), scoring='accuracy')\n",
    "rfecvDT.fit(x_trainA, y_trainA)\n",
    "\n",
    "print('Optimal number of features :', rfecvDT.n_features_)\n",
    "print('Best features :', x_trainA.columns[rfecvDT.support_])\n",
    "predictions_dtRFECV = rfecvDT.predict(x_testA)\n",
    "print(classification_report(y_testA,predictions_dtRFECV))"
   ]
  },
  {
   "cell_type": "markdown",
   "metadata": {},
   "source": [
    "**Random Forest**"
   ]
  },
  {
   "cell_type": "code",
   "execution_count": 33,
   "metadata": {},
   "outputs": [
    {
     "name": "stdout",
     "output_type": "stream",
     "text": [
      "Optimal number of features : 46\n",
      "Best features : Index(['dTOT', 'dHSR', 'dMET', 'dHML', 'dHML/m', 'Acc2', 'Acc3', 'Dec2',\n",
      "       'Dec3', 'FI', 'Age', 'BMI', 'IdRole', 'PI_Acum', 'PlayTime', 'Games',\n",
      "       'ewm_dTOT', 'ewm_dHSR', 'ewm_dHML', 'ewm_Acc2', 'ewm_Acc3', 'ewm_Dec2',\n",
      "       'ewm_Dec3', 'ewm_DSL', 'ewm_FI', 'ewm_PI_Acum', 'ac_dTOT', 'ac_dHSR',\n",
      "       'ac_dMET', 'ac_dHML', 'ac_dHML/m', 'ac_Acc2', 'ac_Dec2', 'ac_Dec3',\n",
      "       'ac_DSL', 'ac_FI', 'ms_dTOT', 'ms_dHSR', 'ms_dMET', 'ms_dHML',\n",
      "       'ms_dHML/m', 'ms_Acc2', 'ms_Acc3', 'ms_Dec2', 'ms_Dec3', 'ms_DSL'],\n",
      "      dtype='object')\n",
      "              precision    recall  f1-score   support\n",
      "\n",
      "           0       0.99      0.97      0.98      1915\n",
      "           1       0.97      0.99      0.98      1913\n",
      "\n",
      "    accuracy                           0.98      3828\n",
      "   macro avg       0.98      0.98      0.98      3828\n",
      "weighted avg       0.98      0.98      0.98      3828\n",
      "\n"
     ]
    }
   ],
   "source": [
    "# Clasificador Random Forest\n",
    "\n",
    "rfc = RandomForestClassifier(random_state=101)\n",
    "rfecvRFC = RFECV(estimator=rfc, step=1, cv=StratifiedKFold(2), scoring='accuracy')\n",
    "rfecvRFC.fit(x_trainA, y_trainA)\n",
    "\n",
    "print('Optimal number of features :', rfecvRFC.n_features_)\n",
    "print('Best features :', x_trainA.columns[rfecvRFC.support_])\n",
    "predictions_rfcRFECV = rfecvRFC.predict(x_testA)\n",
    "print(classification_report(y_testA,predictions_rfcRFECV))"
   ]
  },
  {
   "cell_type": "markdown",
   "metadata": {},
   "source": [
    "## <font size=\"20\"><center> <font color='darkblue'> 5. Rama inferior (Cross Validation)</font>\n",
    "\n",
    "En esta sección trabajaremos sobre el 70% de los datos restantes, y con los atributos detectados mediante la aplicación de RFECV en la rama Superior\n",
    "\n",
    "1. Crear rama inferior con los atributos detectados por RFECV \n",
    "2. Separar en nuevos conjuntos de Train y Test, pero ahora con la distribución 50/50\n",
    "3. Entrenar los clasificadores LR, RF, DT, VM, MN con los atributos detectados por RFECV "
   ]
  },
  {
   "cell_type": "markdown",
   "metadata": {},
   "source": [
    "## Creación de rama inferior"
   ]
  },
  {
   "cell_type": "code",
   "execution_count": 34,
   "metadata": {},
   "outputs": [],
   "source": [
    "# Usamos las columnas devueltas por REFCV con RFC en la sección anterior \n",
    "atributos = x_trainA.columns[rfecvRFC.support_].tolist()\n",
    "\n",
    "rama_inferior = x_testA[atributos]"
   ]
  },
  {
   "cell_type": "code",
   "execution_count": null,
   "metadata": {},
   "outputs": [],
   "source": []
  },
  {
   "cell_type": "markdown",
   "metadata": {},
   "source": [
    "## Train y Test sobre el 70% (50 - 50) "
   ]
  },
  {
   "cell_type": "code",
   "execution_count": 35,
   "metadata": {},
   "outputs": [],
   "source": [
    "x_trainAB, x_testAB, y_trainAB, y_testAB = train_test_split(rama_inferior ,y_testA, \n",
    "                                                    test_size=0.5, \n",
    "                                                    random_state=8)"
   ]
  },
  {
   "cell_type": "code",
   "execution_count": 36,
   "metadata": {},
   "outputs": [
    {
     "name": "stdout",
     "output_type": "stream",
     "text": [
      "Distribución de y_trainAB Counter({0: 970, 1: 944})\n",
      "Distribución de y_testAB Counter({1: 969, 0: 945})\n"
     ]
    }
   ],
   "source": [
    "print('Distribución de y_trainAB {}'.format(Counter(y_trainAB)))\n",
    "print('Distribución de y_testAB {}'.format(Counter(y_testAB)))"
   ]
  },
  {
   "cell_type": "markdown",
   "metadata": {},
   "source": [
    "## Clasificadores con las columnas de RFECV\n",
    "\n",
    "En este apartado volvemos a aplicar los clasificadores que vimos anteriormente, pero utilizando un dataset que sólo considera los atributos más relevantes (obtenidos mediante RFECV)"
   ]
  },
  {
   "cell_type": "markdown",
   "metadata": {},
   "source": [
    "**Decision tree**"
   ]
  },
  {
   "cell_type": "code",
   "execution_count": 37,
   "metadata": {},
   "outputs": [
    {
     "name": "stdout",
     "output_type": "stream",
     "text": [
      "              precision    recall  f1-score   support\n",
      "\n",
      "           0       0.87      0.82      0.85       945\n",
      "           1       0.83      0.88      0.86       969\n",
      "\n",
      "    accuracy                           0.85      1914\n",
      "   macro avg       0.85      0.85      0.85      1914\n",
      "weighted avg       0.85      0.85      0.85      1914\n",
      "\n"
     ]
    }
   ],
   "source": [
    "# Decision Tree \n",
    "\n",
    "dtAB = tree.DecisionTreeClassifier(max_depth=4)\n",
    "dtAB.fit(x_trainAB, y_trainAB)\n",
    "predictionsdtAB = dtAB.predict(x_testAB)\n",
    "print(classification_report(y_testAB,predictionsdtAB))"
   ]
  },
  {
   "cell_type": "code",
   "execution_count": 38,
   "metadata": {},
   "outputs": [],
   "source": [
    "# En este punto extraems el arbol de decisión obtenido con el clasificador de Decision Tree\n",
    "tree.export_graphviz(dtAB,\n",
    "                     class_names = True,\n",
    "                     feature_names = x_testAB.columns,\n",
    "                     out_file=\"Arbol_finalDT.dot\")"
   ]
  },
  {
   "cell_type": "markdown",
   "metadata": {},
   "source": [
    "**Random Forest**"
   ]
  },
  {
   "cell_type": "code",
   "execution_count": 39,
   "metadata": {},
   "outputs": [
    {
     "name": "stdout",
     "output_type": "stream",
     "text": [
      "              precision    recall  f1-score   support\n",
      "\n",
      "           0       0.99      1.00      0.99       945\n",
      "           1       1.00      0.99      0.99       969\n",
      "\n",
      "    accuracy                           0.99      1914\n",
      "   macro avg       0.99      0.99      0.99      1914\n",
      "weighted avg       0.99      0.99      0.99      1914\n",
      "\n"
     ]
    }
   ],
   "source": [
    "# Random Forest \n",
    "\n",
    "rfAB = RandomForestClassifier()\n",
    "rfAB.fit(x_trainAB,y_trainAB)\n",
    "predictionsrfAB = rfAB.predict(x_testAB)\n",
    "print(classification_report(y_testAB,predictionsrfAB))"
   ]
  },
  {
   "cell_type": "code",
   "execution_count": 40,
   "metadata": {},
   "outputs": [],
   "source": [
    "# En este punto extraems el arbol de decisión obtenido con el clasificador de Random Forest\n",
    "estimators = rfAB.estimators_[5]\n",
    "export_graphviz(estimators,\n",
    "                     class_names = True,\n",
    "                     feature_names = x_testAB.columns,\n",
    "                     out_file=\"Arbol_finalRFC.dot\")"
   ]
  },
  {
   "cell_type": "markdown",
   "metadata": {},
   "source": [
    "**Regresión logística**"
   ]
  },
  {
   "cell_type": "code",
   "execution_count": 41,
   "metadata": {},
   "outputs": [
    {
     "name": "stdout",
     "output_type": "stream",
     "text": [
      "              precision    recall  f1-score   support\n",
      "\n",
      "           0       0.69      0.59      0.63       945\n",
      "           1       0.65      0.74      0.69       969\n",
      "\n",
      "    accuracy                           0.66      1914\n",
      "   macro avg       0.67      0.66      0.66      1914\n",
      "weighted avg       0.67      0.66      0.66      1914\n",
      "\n"
     ]
    }
   ],
   "source": [
    "# Regresión logística \n",
    "\n",
    "clf_lrAB = LogisticRegression() \n",
    "clf_lrAB.fit(x_trainAB,y_trainAB)\n",
    "predictionslrAB = clf_lrAB.predict(x_testAB)\n",
    "print(classification_report(y_testAB,predictionslrAB))"
   ]
  },
  {
   "cell_type": "markdown",
   "metadata": {},
   "source": [
    "**Vector Máquina**"
   ]
  },
  {
   "cell_type": "code",
   "execution_count": 42,
   "metadata": {},
   "outputs": [
    {
     "name": "stdout",
     "output_type": "stream",
     "text": [
      "              precision    recall  f1-score   support\n",
      "\n",
      "           0       0.52      1.00      0.68       945\n",
      "           1       1.00      0.10      0.18       969\n",
      "\n",
      "    accuracy                           0.54      1914\n",
      "   macro avg       0.76      0.55      0.43      1914\n",
      "weighted avg       0.76      0.54      0.43      1914\n",
      "\n"
     ]
    }
   ],
   "source": [
    "# Vector Máquina \n",
    "\n",
    "svmcAB = SVC(kernel='rbf', C=1E6, gamma='auto')\n",
    "svmcAB.fit(x_trainAB,y_trainAB)\n",
    "predictionsSVMAB = svmcAB.predict(x_testAB)\n",
    "print(classification_report(y_testAB,predictionsSVMAB))"
   ]
  },
  {
   "cell_type": "markdown",
   "metadata": {},
   "source": [
    "**Bayesiano Binomial**"
   ]
  },
  {
   "cell_type": "code",
   "execution_count": 43,
   "metadata": {},
   "outputs": [
    {
     "name": "stdout",
     "output_type": "stream",
     "text": [
      "              precision    recall  f1-score   support\n",
      "\n",
      "           0       0.60      0.47      0.53       945\n",
      "           1       0.57      0.70      0.63       969\n",
      "\n",
      "    accuracy                           0.59      1914\n",
      "   macro avg       0.59      0.58      0.58      1914\n",
      "weighted avg       0.59      0.59      0.58      1914\n",
      "\n"
     ]
    }
   ],
   "source": [
    "## Bayesiano Binomial \n",
    "mnAB = MultinomialNB()\n",
    "mnAB.fit(x_trainAB,y_trainAB)\n",
    "predictionsMNAB = mnAB.predict(x_testAB)\n",
    "print(classification_report(y_testAB,predictionsMNAB))"
   ]
  },
  {
   "cell_type": "code",
   "execution_count": null,
   "metadata": {},
   "outputs": [],
   "source": []
  },
  {
   "cell_type": "markdown",
   "metadata": {},
   "source": [
    "## <font size=\"20\"><center> <font color='darkblue'> 6. Individualización de lesiones </font>"
   ]
  },
  {
   "cell_type": "markdown",
   "metadata": {},
   "source": [
    "El objetivo de este apartado es conocer de forma individual si cada uno de los jugadores se van a lesionar para la siguiente sesión. \n",
    "\n",
    "  1. El primer acercamiento es aplicar los algoritmos previamente entrenados en el apartado de Oversampling utilizando las columnas más importantes proporcionadas por RFECV. Los resultados obtenidos con esta técnica fueron \n",
    "  \n",
    "  \n",
    "  2. El segundo acercamiento consiste en entrenar de igual forma los mismos algoritmos pero con todas las columnas del dataset menos la columna Lesión (Y)."
   ]
  },
  {
   "cell_type": "markdown",
   "metadata": {},
   "source": [
    "## Clasificadores con RFECV"
   ]
  },
  {
   "cell_type": "markdown",
   "metadata": {},
   "source": [
    "**Decision tree**"
   ]
  },
  {
   "cell_type": "code",
   "execution_count": 44,
   "metadata": {},
   "outputs": [],
   "source": [
    "#Se seleccionan solo los atributos de RF con RFECV\n",
    "columnas_rfecvRFC = X[atributos]"
   ]
  },
  {
   "cell_type": "code",
   "execution_count": 45,
   "metadata": {},
   "outputs": [
    {
     "data": {
      "text/html": [
       "<div>\n",
       "<style scoped>\n",
       "    .dataframe tbody tr th:only-of-type {\n",
       "        vertical-align: middle;\n",
       "    }\n",
       "\n",
       "    .dataframe tbody tr th {\n",
       "        vertical-align: top;\n",
       "    }\n",
       "\n",
       "    .dataframe thead th {\n",
       "        text-align: right;\n",
       "    }\n",
       "</style>\n",
       "<table border=\"1\" class=\"dataframe\">\n",
       "  <thead>\n",
       "    <tr style=\"text-align: right;\">\n",
       "      <th></th>\n",
       "      <th>Lesion</th>\n",
       "      <th>prediccionDT</th>\n",
       "      <th>ResultadoDT</th>\n",
       "      <th>Conteo</th>\n",
       "    </tr>\n",
       "  </thead>\n",
       "  <tbody>\n",
       "    <tr>\n",
       "      <th>0</th>\n",
       "      <td>0</td>\n",
       "      <td>0</td>\n",
       "      <td>True</td>\n",
       "      <td>2253</td>\n",
       "    </tr>\n",
       "    <tr>\n",
       "      <th>1</th>\n",
       "      <td>0</td>\n",
       "      <td>1</td>\n",
       "      <td>False</td>\n",
       "      <td>485</td>\n",
       "    </tr>\n",
       "    <tr>\n",
       "      <th>2</th>\n",
       "      <td>1</td>\n",
       "      <td>0</td>\n",
       "      <td>False</td>\n",
       "      <td>13</td>\n",
       "    </tr>\n",
       "    <tr>\n",
       "      <th>3</th>\n",
       "      <td>1</td>\n",
       "      <td>1</td>\n",
       "      <td>True</td>\n",
       "      <td>27</td>\n",
       "    </tr>\n",
       "  </tbody>\n",
       "</table>\n",
       "</div>"
      ],
      "text/plain": [
       "   Lesion  prediccionDT  ResultadoDT  Conteo\n",
       "0       0             0         True    2253\n",
       "1       0             1        False     485\n",
       "2       1             0        False      13\n",
       "3       1             1         True      27"
      ]
     },
     "execution_count": 45,
     "metadata": {},
     "output_type": "execute_result"
    }
   ],
   "source": [
    "#Decision tree\n",
    "predictionsdt = dtAB.predict(columnas_rfecvRFC)\n",
    "\n",
    "df = pd.DataFrame(Y)\n",
    "df[\"prediccionDT\"] = predictionsdt\n",
    "df[\"ResultadoDT\"] = np.where(df['Lesion'] == df['prediccionDT'],True,False)\n",
    "df.groupby(df.columns.tolist()).size().reset_index().rename({0: 'Conteo'}, axis=1)"
   ]
  },
  {
   "cell_type": "markdown",
   "metadata": {},
   "source": [
    "**Random Forest**"
   ]
  },
  {
   "cell_type": "code",
   "execution_count": 62,
   "metadata": {},
   "outputs": [
    {
     "data": {
      "text/html": [
       "<div>\n",
       "<style scoped>\n",
       "    .dataframe tbody tr th:only-of-type {\n",
       "        vertical-align: middle;\n",
       "    }\n",
       "\n",
       "    .dataframe tbody tr th {\n",
       "        vertical-align: top;\n",
       "    }\n",
       "\n",
       "    .dataframe thead th {\n",
       "        text-align: right;\n",
       "    }\n",
       "</style>\n",
       "<table border=\"1\" class=\"dataframe\">\n",
       "  <thead>\n",
       "    <tr style=\"text-align: right;\">\n",
       "      <th></th>\n",
       "      <th>Lesion</th>\n",
       "      <th>prediccionRF</th>\n",
       "      <th>ResultadoRF</th>\n",
       "      <th>Conteo</th>\n",
       "    </tr>\n",
       "  </thead>\n",
       "  <tbody>\n",
       "    <tr>\n",
       "      <th>0</th>\n",
       "      <td>0</td>\n",
       "      <td>0</td>\n",
       "      <td>True</td>\n",
       "      <td>2728</td>\n",
       "    </tr>\n",
       "    <tr>\n",
       "      <th>1</th>\n",
       "      <td>0</td>\n",
       "      <td>1</td>\n",
       "      <td>False</td>\n",
       "      <td>10</td>\n",
       "    </tr>\n",
       "    <tr>\n",
       "      <th>2</th>\n",
       "      <td>1</td>\n",
       "      <td>0</td>\n",
       "      <td>False</td>\n",
       "      <td>9</td>\n",
       "    </tr>\n",
       "    <tr>\n",
       "      <th>3</th>\n",
       "      <td>1</td>\n",
       "      <td>1</td>\n",
       "      <td>True</td>\n",
       "      <td>31</td>\n",
       "    </tr>\n",
       "  </tbody>\n",
       "</table>\n",
       "</div>"
      ],
      "text/plain": [
       "   Lesion  prediccionRF  ResultadoRF  Conteo\n",
       "0       0             0         True    2728\n",
       "1       0             1        False      10\n",
       "2       1             0        False       9\n",
       "3       1             1         True      31"
      ]
     },
     "execution_count": 62,
     "metadata": {},
     "output_type": "execute_result"
    }
   ],
   "source": [
    "#Random Forest\n",
    "predictionsrfAB = rfAB.predict(columnas_rfecvRFC)\n",
    "\n",
    "df = pd.DataFrame(Y)\n",
    "df[\"prediccionRF\"] = predictionsrfAB\n",
    "df[\"ResultadoRF\"] = np.where(df['Lesion'] == df['prediccionRF'],True,False)\n",
    "df.groupby(df.columns.tolist()).size().reset_index().rename({0: 'Conteo'}, axis=1)"
   ]
  },
  {
   "cell_type": "markdown",
   "metadata": {},
   "source": [
    "**Regresión logística**"
   ]
  },
  {
   "cell_type": "code",
   "execution_count": 47,
   "metadata": {},
   "outputs": [
    {
     "data": {
      "text/html": [
       "<div>\n",
       "<style scoped>\n",
       "    .dataframe tbody tr th:only-of-type {\n",
       "        vertical-align: middle;\n",
       "    }\n",
       "\n",
       "    .dataframe tbody tr th {\n",
       "        vertical-align: top;\n",
       "    }\n",
       "\n",
       "    .dataframe thead th {\n",
       "        text-align: right;\n",
       "    }\n",
       "</style>\n",
       "<table border=\"1\" class=\"dataframe\">\n",
       "  <thead>\n",
       "    <tr style=\"text-align: right;\">\n",
       "      <th></th>\n",
       "      <th>Lesion</th>\n",
       "      <th>prediccionLR</th>\n",
       "      <th>ResultadoLR</th>\n",
       "      <th>Conteo</th>\n",
       "    </tr>\n",
       "  </thead>\n",
       "  <tbody>\n",
       "    <tr>\n",
       "      <th>0</th>\n",
       "      <td>0</td>\n",
       "      <td>0</td>\n",
       "      <td>True</td>\n",
       "      <td>1634</td>\n",
       "    </tr>\n",
       "    <tr>\n",
       "      <th>1</th>\n",
       "      <td>0</td>\n",
       "      <td>1</td>\n",
       "      <td>False</td>\n",
       "      <td>1104</td>\n",
       "    </tr>\n",
       "    <tr>\n",
       "      <th>2</th>\n",
       "      <td>1</td>\n",
       "      <td>0</td>\n",
       "      <td>False</td>\n",
       "      <td>14</td>\n",
       "    </tr>\n",
       "    <tr>\n",
       "      <th>3</th>\n",
       "      <td>1</td>\n",
       "      <td>1</td>\n",
       "      <td>True</td>\n",
       "      <td>26</td>\n",
       "    </tr>\n",
       "  </tbody>\n",
       "</table>\n",
       "</div>"
      ],
      "text/plain": [
       "   Lesion  prediccionLR  ResultadoLR  Conteo\n",
       "0       0             0         True    1634\n",
       "1       0             1        False    1104\n",
       "2       1             0        False      14\n",
       "3       1             1         True      26"
      ]
     },
     "execution_count": 47,
     "metadata": {},
     "output_type": "execute_result"
    }
   ],
   "source": [
    "#Regresión Logísitca\n",
    "predictionslr = clf_lrAB.predict(columnas_rfecvRFC)\n",
    "\n",
    "df = pd.DataFrame(Y)\n",
    "df[\"prediccionLR\"] = predictionslr\n",
    "df[\"ResultadoLR\"] = np.where(df['Lesion'] == df['prediccionLR'],True,False)\n",
    "df.groupby(df.columns.tolist()).size().reset_index().rename({0: 'Conteo'}, axis=1)"
   ]
  },
  {
   "cell_type": "markdown",
   "metadata": {},
   "source": [
    "**Vector máquina**"
   ]
  },
  {
   "cell_type": "code",
   "execution_count": 48,
   "metadata": {},
   "outputs": [
    {
     "data": {
      "text/html": [
       "<div>\n",
       "<style scoped>\n",
       "    .dataframe tbody tr th:only-of-type {\n",
       "        vertical-align: middle;\n",
       "    }\n",
       "\n",
       "    .dataframe tbody tr th {\n",
       "        vertical-align: top;\n",
       "    }\n",
       "\n",
       "    .dataframe thead th {\n",
       "        text-align: right;\n",
       "    }\n",
       "</style>\n",
       "<table border=\"1\" class=\"dataframe\">\n",
       "  <thead>\n",
       "    <tr style=\"text-align: right;\">\n",
       "      <th></th>\n",
       "      <th>Lesion</th>\n",
       "      <th>prediccionSVMAB</th>\n",
       "      <th>ResultadoSVMAB</th>\n",
       "      <th>Conteo</th>\n",
       "    </tr>\n",
       "  </thead>\n",
       "  <tbody>\n",
       "    <tr>\n",
       "      <th>0</th>\n",
       "      <td>0</td>\n",
       "      <td>0</td>\n",
       "      <td>True</td>\n",
       "      <td>2738</td>\n",
       "    </tr>\n",
       "    <tr>\n",
       "      <th>1</th>\n",
       "      <td>1</td>\n",
       "      <td>0</td>\n",
       "      <td>False</td>\n",
       "      <td>17</td>\n",
       "    </tr>\n",
       "    <tr>\n",
       "      <th>2</th>\n",
       "      <td>1</td>\n",
       "      <td>1</td>\n",
       "      <td>True</td>\n",
       "      <td>23</td>\n",
       "    </tr>\n",
       "  </tbody>\n",
       "</table>\n",
       "</div>"
      ],
      "text/plain": [
       "   Lesion  prediccionSVMAB  ResultadoSVMAB  Conteo\n",
       "0       0                0            True    2738\n",
       "1       1                0           False      17\n",
       "2       1                1            True      23"
      ]
     },
     "execution_count": 48,
     "metadata": {},
     "output_type": "execute_result"
    }
   ],
   "source": [
    "#Vector máquina\n",
    "predictionsSVMAB = svmcAB.predict(columnas_rfecvRFC)\n",
    "\n",
    "df = pd.DataFrame(Y)\n",
    "df[\"prediccionSVMAB\"] = predictionsSVMAB\n",
    "df[\"ResultadoSVMAB\"] = np.where(df['Lesion'] == df['prediccionSVMAB'],True,False)\n",
    "df.groupby(df.columns.tolist()).size().reset_index().rename({0: 'Conteo'}, axis=1)"
   ]
  },
  {
   "cell_type": "markdown",
   "metadata": {},
   "source": [
    "**Bayesiano Binomial**"
   ]
  },
  {
   "cell_type": "code",
   "execution_count": 49,
   "metadata": {},
   "outputs": [
    {
     "data": {
      "text/html": [
       "<div>\n",
       "<style scoped>\n",
       "    .dataframe tbody tr th:only-of-type {\n",
       "        vertical-align: middle;\n",
       "    }\n",
       "\n",
       "    .dataframe tbody tr th {\n",
       "        vertical-align: top;\n",
       "    }\n",
       "\n",
       "    .dataframe thead th {\n",
       "        text-align: right;\n",
       "    }\n",
       "</style>\n",
       "<table border=\"1\" class=\"dataframe\">\n",
       "  <thead>\n",
       "    <tr style=\"text-align: right;\">\n",
       "      <th></th>\n",
       "      <th>Lesion</th>\n",
       "      <th>prediccionMNAB</th>\n",
       "      <th>ResultadoMNAB</th>\n",
       "      <th>Conteo</th>\n",
       "    </tr>\n",
       "  </thead>\n",
       "  <tbody>\n",
       "    <tr>\n",
       "      <th>0</th>\n",
       "      <td>0</td>\n",
       "      <td>0</td>\n",
       "      <td>True</td>\n",
       "      <td>1287</td>\n",
       "    </tr>\n",
       "    <tr>\n",
       "      <th>1</th>\n",
       "      <td>0</td>\n",
       "      <td>1</td>\n",
       "      <td>False</td>\n",
       "      <td>1451</td>\n",
       "    </tr>\n",
       "    <tr>\n",
       "      <th>2</th>\n",
       "      <td>1</td>\n",
       "      <td>0</td>\n",
       "      <td>False</td>\n",
       "      <td>14</td>\n",
       "    </tr>\n",
       "    <tr>\n",
       "      <th>3</th>\n",
       "      <td>1</td>\n",
       "      <td>1</td>\n",
       "      <td>True</td>\n",
       "      <td>26</td>\n",
       "    </tr>\n",
       "  </tbody>\n",
       "</table>\n",
       "</div>"
      ],
      "text/plain": [
       "   Lesion  prediccionMNAB  ResultadoMNAB  Conteo\n",
       "0       0               0           True    1287\n",
       "1       0               1          False    1451\n",
       "2       1               0          False      14\n",
       "3       1               1           True      26"
      ]
     },
     "execution_count": 49,
     "metadata": {},
     "output_type": "execute_result"
    }
   ],
   "source": [
    "#Bayesiano Binomial\n",
    "predictionsMNAB = mnAB.predict(columnas_rfecvRFC)\n",
    "\n",
    "df = pd.DataFrame(Y)\n",
    "df[\"prediccionMNAB\"] = predictionsMNAB\n",
    "df[\"ResultadoMNAB\"] = np.where(df['Lesion'] == df['prediccionMNAB'],True,False)\n",
    "df.groupby(df.columns.tolist()).size().reset_index().rename({0: 'Conteo'}, axis=1)"
   ]
  },
  {
   "cell_type": "code",
   "execution_count": null,
   "metadata": {},
   "outputs": [],
   "source": []
  },
  {
   "cell_type": "code",
   "execution_count": null,
   "metadata": {},
   "outputs": [],
   "source": []
  },
  {
   "cell_type": "code",
   "execution_count": null,
   "metadata": {},
   "outputs": [],
   "source": []
  },
  {
   "cell_type": "markdown",
   "metadata": {},
   "source": [
    "## Clasificadores sin RFECV"
   ]
  },
  {
   "cell_type": "markdown",
   "metadata": {},
   "source": [
    "**Decision Tree**"
   ]
  },
  {
   "cell_type": "code",
   "execution_count": 63,
   "metadata": {
    "scrolled": true
   },
   "outputs": [
    {
     "data": {
      "text/html": [
       "<div>\n",
       "<style scoped>\n",
       "    .dataframe tbody tr th:only-of-type {\n",
       "        vertical-align: middle;\n",
       "    }\n",
       "\n",
       "    .dataframe tbody tr th {\n",
       "        vertical-align: top;\n",
       "    }\n",
       "\n",
       "    .dataframe thead th {\n",
       "        text-align: right;\n",
       "    }\n",
       "</style>\n",
       "<table border=\"1\" class=\"dataframe\">\n",
       "  <thead>\n",
       "    <tr style=\"text-align: right;\">\n",
       "      <th></th>\n",
       "      <th>Lesion</th>\n",
       "      <th>predDT</th>\n",
       "      <th>RtadoDT</th>\n",
       "      <th>Conteo</th>\n",
       "    </tr>\n",
       "  </thead>\n",
       "  <tbody>\n",
       "    <tr>\n",
       "      <th>0</th>\n",
       "      <td>0</td>\n",
       "      <td>0</td>\n",
       "      <td>True</td>\n",
       "      <td>2715</td>\n",
       "    </tr>\n",
       "    <tr>\n",
       "      <th>1</th>\n",
       "      <td>0</td>\n",
       "      <td>1</td>\n",
       "      <td>False</td>\n",
       "      <td>23</td>\n",
       "    </tr>\n",
       "    <tr>\n",
       "      <th>2</th>\n",
       "      <td>1</td>\n",
       "      <td>0</td>\n",
       "      <td>False</td>\n",
       "      <td>3</td>\n",
       "    </tr>\n",
       "    <tr>\n",
       "      <th>3</th>\n",
       "      <td>1</td>\n",
       "      <td>1</td>\n",
       "      <td>True</td>\n",
       "      <td>37</td>\n",
       "    </tr>\n",
       "  </tbody>\n",
       "</table>\n",
       "</div>"
      ],
      "text/plain": [
       "   Lesion  predDT  RtadoDT  Conteo\n",
       "0       0       0     True    2715\n",
       "1       0       1    False      23\n",
       "2       1       0    False       3\n",
       "3       1       1     True      37"
      ]
     },
     "execution_count": 63,
     "metadata": {},
     "output_type": "execute_result"
    }
   ],
   "source": [
    "#Decision tree\n",
    "predictionsDT = dtAD.predict(X)\n",
    "\n",
    "df = pd.DataFrame(Y)\n",
    "df[\"predDT\"] = predictionsDT\n",
    "df[\"RtadoDT\"] = np.where(df['Lesion'] == df['predDT'],True,False)\n",
    "df.groupby(df.columns.tolist()).size().reset_index().rename({0: 'Conteo'}, axis=1)"
   ]
  },
  {
   "cell_type": "markdown",
   "metadata": {},
   "source": [
    "**Random Forest**"
   ]
  },
  {
   "cell_type": "code",
   "execution_count": 65,
   "metadata": {
    "scrolled": true
   },
   "outputs": [
    {
     "data": {
      "text/html": [
       "<div>\n",
       "<style scoped>\n",
       "    .dataframe tbody tr th:only-of-type {\n",
       "        vertical-align: middle;\n",
       "    }\n",
       "\n",
       "    .dataframe tbody tr th {\n",
       "        vertical-align: top;\n",
       "    }\n",
       "\n",
       "    .dataframe thead th {\n",
       "        text-align: right;\n",
       "    }\n",
       "</style>\n",
       "<table border=\"1\" class=\"dataframe\">\n",
       "  <thead>\n",
       "    <tr style=\"text-align: right;\">\n",
       "      <th></th>\n",
       "      <th>Lesion</th>\n",
       "      <th>Prediccion</th>\n",
       "      <th>RtadoRF</th>\n",
       "      <th>Conteo</th>\n",
       "    </tr>\n",
       "  </thead>\n",
       "  <tbody>\n",
       "    <tr>\n",
       "      <th>0</th>\n",
       "      <td>0</td>\n",
       "      <td>0</td>\n",
       "      <td>Acierto / True Negative</td>\n",
       "      <td>2736</td>\n",
       "    </tr>\n",
       "    <tr>\n",
       "      <th>3</th>\n",
       "      <td>1</td>\n",
       "      <td>1</td>\n",
       "      <td>Acierto / True Positive</td>\n",
       "      <td>37</td>\n",
       "    </tr>\n",
       "    <tr>\n",
       "      <th>2</th>\n",
       "      <td>1</td>\n",
       "      <td>0</td>\n",
       "      <td>Fallo / False Negative</td>\n",
       "      <td>3</td>\n",
       "    </tr>\n",
       "    <tr>\n",
       "      <th>1</th>\n",
       "      <td>0</td>\n",
       "      <td>1</td>\n",
       "      <td>Fallo / False Positive</td>\n",
       "      <td>2</td>\n",
       "    </tr>\n",
       "  </tbody>\n",
       "</table>\n",
       "</div>"
      ],
      "text/plain": [
       "   Lesion  Prediccion                  RtadoRF  Conteo\n",
       "0       0           0  Acierto / True Negative    2736\n",
       "3       1           1  Acierto / True Positive      37\n",
       "2       1           0   Fallo / False Negative       3\n",
       "1       0           1   Fallo / False Positive       2"
      ]
     },
     "execution_count": 65,
     "metadata": {},
     "output_type": "execute_result"
    }
   ],
   "source": [
    "#Random Forest\n",
    "predictionsRF = rfAD.predict(X)\n",
    "\n",
    "\n",
    "# Resumen de resultados de Random Forest\n",
    "df = pd.DataFrame(Y)\n",
    "df[\"Prediccion\"] = predictionsRF\n",
    "df[\"RtadoRF\"] = df.apply(lambda x:tipo_result(x[\"Lesion\"],x[\"Prediccion\"]),axis = 1)\n",
    "df.groupby(df.columns.tolist()).size().reset_index().rename({0: 'Conteo'}, axis=1).sort_values(by=['RtadoRF', 'Conteo'], ascending=[True, False])\n",
    "#df.groupby(df.columns.tolist()).size().reset_index().rename({0: 'Conteo'}, axis=1)\n",
    "#df[\"RtadoRF\"] = np.where(df['Lesion'] == df['predRF'],True,False)"
   ]
  },
  {
   "cell_type": "code",
   "execution_count": 69,
   "metadata": {},
   "outputs": [
    {
     "data": {
      "text/html": [
       "<div>\n",
       "<style scoped>\n",
       "    .dataframe tbody tr th:only-of-type {\n",
       "        vertical-align: middle;\n",
       "    }\n",
       "\n",
       "    .dataframe tbody tr th {\n",
       "        vertical-align: top;\n",
       "    }\n",
       "\n",
       "    .dataframe thead th {\n",
       "        text-align: right;\n",
       "    }\n",
       "</style>\n",
       "<table border=\"1\" class=\"dataframe\">\n",
       "  <thead>\n",
       "    <tr style=\"text-align: right;\">\n",
       "      <th></th>\n",
       "      <th>Lesion</th>\n",
       "      <th>Prediccion</th>\n",
       "      <th>Nombre</th>\n",
       "      <th>RtadoRF</th>\n",
       "      <th>Conteo</th>\n",
       "    </tr>\n",
       "  </thead>\n",
       "  <tbody>\n",
       "    <tr>\n",
       "      <th>14</th>\n",
       "      <td>1</td>\n",
       "      <td>1</td>\n",
       "      <td>José Manuel Jurado Marín</td>\n",
       "      <td>Acierto / True Positive</td>\n",
       "      <td>6</td>\n",
       "    </tr>\n",
       "    <tr>\n",
       "      <th>19</th>\n",
       "      <td>1</td>\n",
       "      <td>1</td>\n",
       "      <td>Rafael Giménez Jarque</td>\n",
       "      <td>Acierto / True Positive</td>\n",
       "      <td>5</td>\n",
       "    </tr>\n",
       "    <tr>\n",
       "      <th>15</th>\n",
       "      <td>1</td>\n",
       "      <td>1</td>\n",
       "      <td>José María Martín-Bejarano Serrano</td>\n",
       "      <td>Acierto / True Positive</td>\n",
       "      <td>3</td>\n",
       "    </tr>\n",
       "    <tr>\n",
       "      <th>18</th>\n",
       "      <td>1</td>\n",
       "      <td>1</td>\n",
       "      <td>Marcos Mauro López Gutiérrez</td>\n",
       "      <td>Acierto / True Positive</td>\n",
       "      <td>3</td>\n",
       "    </tr>\n",
       "    <tr>\n",
       "      <th>6</th>\n",
       "      <td>1</td>\n",
       "      <td>1</td>\n",
       "      <td>Alexander Mesa Travieso</td>\n",
       "      <td>Acierto / True Positive</td>\n",
       "      <td>2</td>\n",
       "    </tr>\n",
       "    <tr>\n",
       "      <th>8</th>\n",
       "      <td>1</td>\n",
       "      <td>1</td>\n",
       "      <td>Eduardo Ramos Gómez</td>\n",
       "      <td>Acierto / True Positive</td>\n",
       "      <td>2</td>\n",
       "    </tr>\n",
       "    <tr>\n",
       "      <th>12</th>\n",
       "      <td>1</td>\n",
       "      <td>1</td>\n",
       "      <td>Jean-Pierre Rhyner</td>\n",
       "      <td>Acierto / True Positive</td>\n",
       "      <td>2</td>\n",
       "    </tr>\n",
       "    <tr>\n",
       "      <th>17</th>\n",
       "      <td>1</td>\n",
       "      <td>1</td>\n",
       "      <td>Luis Alfonso Espino García</td>\n",
       "      <td>Acierto / True Positive</td>\n",
       "      <td>2</td>\n",
       "    </tr>\n",
       "    <tr>\n",
       "      <th>20</th>\n",
       "      <td>1</td>\n",
       "      <td>1</td>\n",
       "      <td>Salvador Sánchez Ponce</td>\n",
       "      <td>Acierto / True Positive</td>\n",
       "      <td>2</td>\n",
       "    </tr>\n",
       "    <tr>\n",
       "      <th>21</th>\n",
       "      <td>1</td>\n",
       "      <td>1</td>\n",
       "      <td>Sergio Sánchez Ortega</td>\n",
       "      <td>Acierto / True Positive</td>\n",
       "      <td>2</td>\n",
       "    </tr>\n",
       "    <tr>\n",
       "      <th>5</th>\n",
       "      <td>1</td>\n",
       "      <td>1</td>\n",
       "      <td>Alberto Perea Correoso</td>\n",
       "      <td>Acierto / True Positive</td>\n",
       "      <td>1</td>\n",
       "    </tr>\n",
       "    <tr>\n",
       "      <th>7</th>\n",
       "      <td>1</td>\n",
       "      <td>1</td>\n",
       "      <td>David Querol Blanco</td>\n",
       "      <td>Acierto / True Positive</td>\n",
       "      <td>1</td>\n",
       "    </tr>\n",
       "    <tr>\n",
       "      <th>9</th>\n",
       "      <td>1</td>\n",
       "      <td>1</td>\n",
       "      <td>Isaac Carcelén Valencia</td>\n",
       "      <td>Acierto / True Positive</td>\n",
       "      <td>1</td>\n",
       "    </tr>\n",
       "    <tr>\n",
       "      <th>10</th>\n",
       "      <td>1</td>\n",
       "      <td>1</td>\n",
       "      <td>Iván Alejo Peralta</td>\n",
       "      <td>Acierto / True Positive</td>\n",
       "      <td>1</td>\n",
       "    </tr>\n",
       "    <tr>\n",
       "      <th>11</th>\n",
       "      <td>1</td>\n",
       "      <td>1</td>\n",
       "      <td>Javier Navarro Rodríguez</td>\n",
       "      <td>Acierto / True Positive</td>\n",
       "      <td>1</td>\n",
       "    </tr>\n",
       "    <tr>\n",
       "      <th>13</th>\n",
       "      <td>1</td>\n",
       "      <td>1</td>\n",
       "      <td>Jon Ander Garrido Moracia</td>\n",
       "      <td>Acierto / True Positive</td>\n",
       "      <td>1</td>\n",
       "    </tr>\n",
       "    <tr>\n",
       "      <th>16</th>\n",
       "      <td>1</td>\n",
       "      <td>1</td>\n",
       "      <td>Juan Torres Ruiz</td>\n",
       "      <td>Acierto / True Positive</td>\n",
       "      <td>1</td>\n",
       "    </tr>\n",
       "    <tr>\n",
       "      <th>22</th>\n",
       "      <td>1</td>\n",
       "      <td>1</td>\n",
       "      <td>Yann Bodiger</td>\n",
       "      <td>Acierto / True Positive</td>\n",
       "      <td>1</td>\n",
       "    </tr>\n",
       "    <tr>\n",
       "      <th>2</th>\n",
       "      <td>1</td>\n",
       "      <td>0</td>\n",
       "      <td>Alexander Mesa Travieso</td>\n",
       "      <td>Fallo / False Negative</td>\n",
       "      <td>1</td>\n",
       "    </tr>\n",
       "    <tr>\n",
       "      <th>3</th>\n",
       "      <td>1</td>\n",
       "      <td>0</td>\n",
       "      <td>Cayetano Quintana Hernández</td>\n",
       "      <td>Fallo / False Negative</td>\n",
       "      <td>1</td>\n",
       "    </tr>\n",
       "    <tr>\n",
       "      <th>4</th>\n",
       "      <td>1</td>\n",
       "      <td>0</td>\n",
       "      <td>David Querol Blanco</td>\n",
       "      <td>Fallo / False Negative</td>\n",
       "      <td>1</td>\n",
       "    </tr>\n",
       "    <tr>\n",
       "      <th>0</th>\n",
       "      <td>0</td>\n",
       "      <td>1</td>\n",
       "      <td>Jean-Pierre Rhyner</td>\n",
       "      <td>Fallo / False Positive</td>\n",
       "      <td>1</td>\n",
       "    </tr>\n",
       "    <tr>\n",
       "      <th>1</th>\n",
       "      <td>0</td>\n",
       "      <td>1</td>\n",
       "      <td>Yann Bodiger</td>\n",
       "      <td>Fallo / False Positive</td>\n",
       "      <td>1</td>\n",
       "    </tr>\n",
       "  </tbody>\n",
       "</table>\n",
       "</div>"
      ],
      "text/plain": [
       "    Lesion  Prediccion                              Nombre  \\\n",
       "14       1           1            José Manuel Jurado Marín   \n",
       "19       1           1               Rafael Giménez Jarque   \n",
       "15       1           1  José María Martín-Bejarano Serrano   \n",
       "18       1           1        Marcos Mauro López Gutiérrez   \n",
       "6        1           1             Alexander Mesa Travieso   \n",
       "8        1           1                 Eduardo Ramos Gómez   \n",
       "12       1           1                  Jean-Pierre Rhyner   \n",
       "17       1           1          Luis Alfonso Espino García   \n",
       "20       1           1              Salvador Sánchez Ponce   \n",
       "21       1           1               Sergio Sánchez Ortega   \n",
       "5        1           1              Alberto Perea Correoso   \n",
       "7        1           1                 David Querol Blanco   \n",
       "9        1           1             Isaac Carcelén Valencia   \n",
       "10       1           1                  Iván Alejo Peralta   \n",
       "11       1           1            Javier Navarro Rodríguez   \n",
       "13       1           1           Jon Ander Garrido Moracia   \n",
       "16       1           1                    Juan Torres Ruiz   \n",
       "22       1           1                        Yann Bodiger   \n",
       "2        1           0             Alexander Mesa Travieso   \n",
       "3        1           0         Cayetano Quintana Hernández   \n",
       "4        1           0                 David Querol Blanco   \n",
       "0        0           1                  Jean-Pierre Rhyner   \n",
       "1        0           1                        Yann Bodiger   \n",
       "\n",
       "                    RtadoRF  Conteo  \n",
       "14  Acierto / True Positive       6  \n",
       "19  Acierto / True Positive       5  \n",
       "15  Acierto / True Positive       3  \n",
       "18  Acierto / True Positive       3  \n",
       "6   Acierto / True Positive       2  \n",
       "8   Acierto / True Positive       2  \n",
       "12  Acierto / True Positive       2  \n",
       "17  Acierto / True Positive       2  \n",
       "20  Acierto / True Positive       2  \n",
       "21  Acierto / True Positive       2  \n",
       "5   Acierto / True Positive       1  \n",
       "7   Acierto / True Positive       1  \n",
       "9   Acierto / True Positive       1  \n",
       "10  Acierto / True Positive       1  \n",
       "11  Acierto / True Positive       1  \n",
       "13  Acierto / True Positive       1  \n",
       "16  Acierto / True Positive       1  \n",
       "22  Acierto / True Positive       1  \n",
       "2    Fallo / False Negative       1  \n",
       "3    Fallo / False Negative       1  \n",
       "4    Fallo / False Negative       1  \n",
       "0    Fallo / False Positive       1  \n",
       "1    Fallo / False Positive       1  "
      ]
     },
     "execution_count": 69,
     "metadata": {},
     "output_type": "execute_result"
    }
   ],
   "source": [
    "# Predicción visual Random Forest\n",
    "lesionados = [df[\"Lesion\"],df[\"Prediccion\"], data_player[\"FullName\"], df[\"RtadoRF\"]]\n",
    "headers = [\"Lesion\", \"Prediccion\",\"Nombre\", \"RtadoRF\"]\n",
    "df3 = pd. concat(lesionados, axis=1, keys=headers)\n",
    "\n",
    "df3_res = df3[(df3.Lesion == 1) | (df3.Lesion == 0) & (df3.Prediccion == 1)]\n",
    "df3_res.groupby(df3_res.columns.tolist()).size().reset_index().rename({0: 'Conteo'}, axis=1).sort_values(by=['RtadoRF', 'Conteo'], ascending=[True, False])"
   ]
  },
  {
   "cell_type": "markdown",
   "metadata": {},
   "source": [
    "**Regresión Logística**"
   ]
  },
  {
   "cell_type": "code",
   "execution_count": 52,
   "metadata": {},
   "outputs": [
    {
     "data": {
      "text/html": [
       "<div>\n",
       "<style scoped>\n",
       "    .dataframe tbody tr th:only-of-type {\n",
       "        vertical-align: middle;\n",
       "    }\n",
       "\n",
       "    .dataframe tbody tr th {\n",
       "        vertical-align: top;\n",
       "    }\n",
       "\n",
       "    .dataframe thead th {\n",
       "        text-align: right;\n",
       "    }\n",
       "</style>\n",
       "<table border=\"1\" class=\"dataframe\">\n",
       "  <thead>\n",
       "    <tr style=\"text-align: right;\">\n",
       "      <th></th>\n",
       "      <th>Lesion</th>\n",
       "      <th>predLR</th>\n",
       "      <th>RtadoLR</th>\n",
       "      <th>Conteo</th>\n",
       "    </tr>\n",
       "  </thead>\n",
       "  <tbody>\n",
       "    <tr>\n",
       "      <th>0</th>\n",
       "      <td>0</td>\n",
       "      <td>0</td>\n",
       "      <td>True</td>\n",
       "      <td>1597</td>\n",
       "    </tr>\n",
       "    <tr>\n",
       "      <th>1</th>\n",
       "      <td>0</td>\n",
       "      <td>1</td>\n",
       "      <td>False</td>\n",
       "      <td>1141</td>\n",
       "    </tr>\n",
       "    <tr>\n",
       "      <th>2</th>\n",
       "      <td>1</td>\n",
       "      <td>0</td>\n",
       "      <td>False</td>\n",
       "      <td>13</td>\n",
       "    </tr>\n",
       "    <tr>\n",
       "      <th>3</th>\n",
       "      <td>1</td>\n",
       "      <td>1</td>\n",
       "      <td>True</td>\n",
       "      <td>27</td>\n",
       "    </tr>\n",
       "  </tbody>\n",
       "</table>\n",
       "</div>"
      ],
      "text/plain": [
       "   Lesion  predLR  RtadoLR  Conteo\n",
       "0       0       0     True    1597\n",
       "1       0       1    False    1141\n",
       "2       1       0    False      13\n",
       "3       1       1     True      27"
      ]
     },
     "execution_count": 52,
     "metadata": {},
     "output_type": "execute_result"
    }
   ],
   "source": [
    "#Regresión Logísitca\n",
    "predictionsLR = clf_lrAD.predict(X)\n",
    "\n",
    "df = pd.DataFrame(Y)\n",
    "df[\"predLR\"] = predictionsLR\n",
    "df[\"RtadoLR\"] = np.where(df['Lesion'] == df['predLR'],True,False)\n",
    "df.groupby(df.columns.tolist()).size().reset_index().rename({0: 'Conteo'}, axis=1)"
   ]
  },
  {
   "cell_type": "markdown",
   "metadata": {},
   "source": [
    "**Vector máquina**"
   ]
  },
  {
   "cell_type": "code",
   "execution_count": 53,
   "metadata": {},
   "outputs": [
    {
     "data": {
      "text/html": [
       "<div>\n",
       "<style scoped>\n",
       "    .dataframe tbody tr th:only-of-type {\n",
       "        vertical-align: middle;\n",
       "    }\n",
       "\n",
       "    .dataframe tbody tr th {\n",
       "        vertical-align: top;\n",
       "    }\n",
       "\n",
       "    .dataframe thead th {\n",
       "        text-align: right;\n",
       "    }\n",
       "</style>\n",
       "<table border=\"1\" class=\"dataframe\">\n",
       "  <thead>\n",
       "    <tr style=\"text-align: right;\">\n",
       "      <th></th>\n",
       "      <th>Lesion</th>\n",
       "      <th>predSVM</th>\n",
       "      <th>RtadoSVM</th>\n",
       "      <th>Conteo</th>\n",
       "    </tr>\n",
       "  </thead>\n",
       "  <tbody>\n",
       "    <tr>\n",
       "      <th>0</th>\n",
       "      <td>0</td>\n",
       "      <td>0</td>\n",
       "      <td>True</td>\n",
       "      <td>2738</td>\n",
       "    </tr>\n",
       "    <tr>\n",
       "      <th>1</th>\n",
       "      <td>1</td>\n",
       "      <td>0</td>\n",
       "      <td>False</td>\n",
       "      <td>1</td>\n",
       "    </tr>\n",
       "    <tr>\n",
       "      <th>2</th>\n",
       "      <td>1</td>\n",
       "      <td>1</td>\n",
       "      <td>True</td>\n",
       "      <td>39</td>\n",
       "    </tr>\n",
       "  </tbody>\n",
       "</table>\n",
       "</div>"
      ],
      "text/plain": [
       "   Lesion  predSVM  RtadoSVM  Conteo\n",
       "0       0        0      True    2738\n",
       "1       1        0     False       1\n",
       "2       1        1      True      39"
      ]
     },
     "execution_count": 53,
     "metadata": {},
     "output_type": "execute_result"
    }
   ],
   "source": [
    "#Vector máquina\n",
    "predictionsSVM = svmcAD.predict(X)\n",
    "\n",
    "df = pd.DataFrame(Y)\n",
    "df[\"predSVM\"] = predictionsSVM\n",
    "df[\"RtadoSVM\"] = np.where(df['Lesion'] == df['predSVM'],True,False)\n",
    "df.groupby(df.columns.tolist()).size().reset_index().rename({0: 'Conteo'}, axis=1)"
   ]
  },
  {
   "cell_type": "markdown",
   "metadata": {},
   "source": [
    "**Bayesiano Binomial**"
   ]
  },
  {
   "cell_type": "code",
   "execution_count": 54,
   "metadata": {},
   "outputs": [
    {
     "data": {
      "text/html": [
       "<div>\n",
       "<style scoped>\n",
       "    .dataframe tbody tr th:only-of-type {\n",
       "        vertical-align: middle;\n",
       "    }\n",
       "\n",
       "    .dataframe tbody tr th {\n",
       "        vertical-align: top;\n",
       "    }\n",
       "\n",
       "    .dataframe thead th {\n",
       "        text-align: right;\n",
       "    }\n",
       "</style>\n",
       "<table border=\"1\" class=\"dataframe\">\n",
       "  <thead>\n",
       "    <tr style=\"text-align: right;\">\n",
       "      <th></th>\n",
       "      <th>Lesion</th>\n",
       "      <th>predMN</th>\n",
       "      <th>RtadoMN</th>\n",
       "      <th>Conteo</th>\n",
       "    </tr>\n",
       "  </thead>\n",
       "  <tbody>\n",
       "    <tr>\n",
       "      <th>0</th>\n",
       "      <td>0</td>\n",
       "      <td>0</td>\n",
       "      <td>True</td>\n",
       "      <td>1228</td>\n",
       "    </tr>\n",
       "    <tr>\n",
       "      <th>1</th>\n",
       "      <td>0</td>\n",
       "      <td>1</td>\n",
       "      <td>False</td>\n",
       "      <td>1510</td>\n",
       "    </tr>\n",
       "    <tr>\n",
       "      <th>2</th>\n",
       "      <td>1</td>\n",
       "      <td>0</td>\n",
       "      <td>False</td>\n",
       "      <td>12</td>\n",
       "    </tr>\n",
       "    <tr>\n",
       "      <th>3</th>\n",
       "      <td>1</td>\n",
       "      <td>1</td>\n",
       "      <td>True</td>\n",
       "      <td>28</td>\n",
       "    </tr>\n",
       "  </tbody>\n",
       "</table>\n",
       "</div>"
      ],
      "text/plain": [
       "   Lesion  predMN  RtadoMN  Conteo\n",
       "0       0       0     True    1228\n",
       "1       0       1    False    1510\n",
       "2       1       0    False      12\n",
       "3       1       1     True      28"
      ]
     },
     "execution_count": 54,
     "metadata": {},
     "output_type": "execute_result"
    }
   ],
   "source": [
    "#Bayesiano Binomial\n",
    "predictionsMN = mnAD.predict(X)\n",
    "\n",
    "df = pd.DataFrame(Y)\n",
    "df[\"predMN\"] = predictionsMN\n",
    "df[\"RtadoMN\"] = np.where(df['Lesion'] == df['predMN'],True,False)\n",
    "df.groupby(df.columns.tolist()).size().reset_index().rename({0: 'Conteo'}, axis=1)"
   ]
  },
  {
   "cell_type": "code",
   "execution_count": null,
   "metadata": {},
   "outputs": [],
   "source": []
  },
  {
   "cell_type": "code",
   "execution_count": null,
   "metadata": {},
   "outputs": [],
   "source": []
  },
  {
   "cell_type": "code",
   "execution_count": null,
   "metadata": {},
   "outputs": [],
   "source": []
  }
 ],
 "metadata": {
  "kernelspec": {
   "display_name": "Python 3",
   "language": "python",
   "name": "python3"
  },
  "language_info": {
   "codemirror_mode": {
    "name": "ipython",
    "version": 3
   },
   "file_extension": ".py",
   "mimetype": "text/x-python",
   "name": "python",
   "nbconvert_exporter": "python",
   "pygments_lexer": "ipython3",
   "version": "3.7.3"
  }
 },
 "nbformat": 4,
 "nbformat_minor": 2
}
